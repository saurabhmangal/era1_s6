{
 "cells": [
  {
   "cell_type": "code",
   "execution_count": 1,
   "metadata": {
    "id": "0m2JWFliFfKT"
   },
   "outputs": [],
   "source": [
    "from __future__ import print_function\n",
    "import torch\n",
    "import torch.nn as nn\n",
    "import torch.nn.functional as F\n",
    "import torch.optim as optim\n",
    "from torchvision import datasets, transforms\n",
    "from torchsummary import summary\n",
    "import matplotlib.pyplot as plt"
   ]
  },
  {
   "cell_type": "code",
   "execution_count": 2,
   "metadata": {},
   "outputs": [],
   "source": [
    "### this is for running in local ###\n",
    "try:\n",
    "    os.environ['HTTP_PROXY']='http://185.46.212.90:80'\n",
    "    os.environ['HTTPS_PROXY']='http://185.46.212.90:80'\n",
    "    print (\"proxy_exported\")\n",
    "except:\n",
    "    None"
   ]
  },
  {
   "cell_type": "code",
   "execution_count": 3,
   "metadata": {},
   "outputs": [],
   "source": [
    "# import torch\n",
    "# import torch.nn as nn\n",
    "# import torch.nn.functional as F\n",
    "\n",
    "# class Net(nn.Module):\n",
    "#     def __init__(self):\n",
    "#         super(Net, self).__init__()\n",
    "#         self.conv1 = nn.Conv2d(1, 4, kernel_size=3, padding=1)\n",
    "#         self.bn1 = nn.BatchNorm2d(4)\n",
    "#         self.dropout1 = nn.Dropout2d(p=0.01)\n",
    "\n",
    "#         self.conv2 = nn.Conv2d(4, 8, kernel_size=3, padding=1)\n",
    "#         self.bn2 = nn.BatchNorm2d(8)\n",
    "#         self.dropout2 = nn.Dropout2d(p=0.01)\n",
    "\n",
    "#         self.pool1 = nn.MaxPool2d(2, 2)\n",
    "\n",
    "#         self.conv3 = nn.Conv2d(8, 16, 3, padding=1)\n",
    "#         self.bn3 = nn.BatchNorm2d(16)\n",
    "#         self.dropout3 = nn.Dropout2d(p=0.01)\n",
    "\n",
    "#         self.conv4 = nn.Conv2d(16, 32, 3, padding=1)\n",
    "#         self.bn4 = nn.BatchNorm2d(32)\n",
    "#         self.dropout4 = nn.Dropout2d(p=0.01)\n",
    "\n",
    "#         self.pool2 = nn.MaxPool2d(2, 2)\n",
    "\n",
    "#         self.avgpool = nn.AdaptiveAvgPool2d(1)  # Global Average Pooling\n",
    "\n",
    "#         self.fc = nn.Linear(32, 10)\n",
    "\n",
    "#     def forward(self, x):\n",
    "#         x = self.dropout1(self.bn1(F.relu(self.conv1(x))))\n",
    "#         x = self.pool1(self.dropout2(self.bn2(F.relu(self.conv2(x)))))\n",
    "#         x = self.dropout3(self.bn3(F.relu(self.conv3(x))))\n",
    "#         x = self.pool2(self.dropout4(self.bn4(F.relu(self.conv4(x)))))\n",
    "\n",
    "#         x = self.avgpool(x)\n",
    "#         x = x.view(-1, 32)\n",
    "\n",
    "#         x = self.fc(x)\n",
    "#         x = F.log_softmax(x, dim=1)\n",
    "\n",
    "#         return x\n",
    "\n",
    "# use_cuda = torch.cuda.is_available()\n",
    "# device = torch.device(\"cuda\" if use_cuda else \"cpu\")\n",
    "# model = Net().to(device)\n",
    "# summary(model, input_size=(1, 28, 28))\n",
    "\n",
    "\n",
    "\n",
    "class Net(nn.Module):\n",
    "    def __init__(self):\n",
    "        super(Net, self).__init__()\n",
    "        self.conv1 = nn.Conv2d(in_channels=1, out_channels=128,\n",
    "        kernel_size=3, padding=1)\n",
    "        self.bn1 = nn.BatchNorm2d(num_features=128)\n",
    "        \n",
    "        self.tns1 = nn.Conv2d(in_channels=128, out_channels=4,\n",
    "        kernel_size=1, padding=1)\n",
    "        \n",
    "        self.conv2 = nn.Conv2d(in_channels=4, out_channels=16,\n",
    "        kernel_size=3, padding=1)\n",
    "        self.bn2 = nn.BatchNorm2d(num_features=16)\n",
    "        \n",
    "        self.pool1 = nn.MaxPool2d(2, 2)\n",
    "        \n",
    "        self.conv3 = nn.Conv2d(in_channels=16, out_channels=16,\n",
    "        kernel_size=3, padding=1)\n",
    "        self.bn3 = nn.BatchNorm2d(num_features=16)\n",
    "        \n",
    "        self.conv4 = nn.Conv2d(in_channels=16, out_channels=32,\n",
    "        kernel_size=3, padding=1)\n",
    "        self.bn4 = nn.BatchNorm2d(num_features=32)\n",
    "       \n",
    "        self.pool2 = nn.MaxPool2d(2, 2)\n",
    "        \n",
    "        self.tns2 = nn.Conv2d(in_channels=32, out_channels=16,\n",
    "        kernel_size=1, padding=1)\n",
    "        \n",
    "        self.conv5 = nn.Conv2d(in_channels=16, out_channels=16,\n",
    "        kernel_size=3, padding=1)\n",
    "        self.bn5 = nn.BatchNorm2d(num_features=16)\n",
    "        \n",
    "        self.conv6 = nn.Conv2d(in_channels=16, out_channels=32,\n",
    "        kernel_size=3, padding=1)\n",
    "        self.bn6 = nn.BatchNorm2d(num_features=32)\n",
    "        \n",
    "        self.conv7 = nn.Conv2d(in_channels=32, out_channels=10,\n",
    "        kernel_size=1, padding=1)\n",
    "        self.gpool = nn.AvgPool2d(kernel_size=7)\n",
    "        self.drop = nn.Dropout2d(0.1)\n",
    "\n",
    "    \n",
    "    def forward(self, x):\n",
    "        x = self.tns1(self.drop(self.bn1(F.relu(self.conv1(x)))))\n",
    "        x = self.drop(self.bn2(F.relu(self.conv2(x))))\n",
    "        x = self.pool1(x)\n",
    "        x = self.drop(self.bn3(F.relu(self.conv3(x))))\n",
    "        x = self.drop(self.bn4(F.relu(self.conv4(x))))\n",
    "        x = self.tns2(self.pool2(x))\n",
    "        x = self.drop(self.bn5(F.relu(self.conv5(x))))\n",
    "        x = self.drop(self.bn6(F.relu(self.conv6(x))))\n",
    "        x = self.conv7(x)\n",
    "        x = self.gpool(x)\n",
    "        x = x.view(-1, 10)\n",
    "        return F.log_softmax(x)\n"
   ]
  },
  {
   "cell_type": "code",
   "execution_count": 4,
   "metadata": {
    "scrolled": true
   },
   "outputs": [
    {
     "name": "stdout",
     "output_type": "stream",
     "text": [
      "----------------------------------------------------------------\n",
      "        Layer (type)               Output Shape         Param #\n",
      "================================================================\n",
      "            Conv2d-1          [-1, 128, 28, 28]           1,280\n",
      "       BatchNorm2d-2          [-1, 128, 28, 28]             256\n",
      "         Dropout2d-3          [-1, 128, 28, 28]               0\n",
      "            Conv2d-4            [-1, 4, 30, 30]             516\n",
      "            Conv2d-5           [-1, 16, 30, 30]             592\n",
      "       BatchNorm2d-6           [-1, 16, 30, 30]              32\n",
      "         Dropout2d-7           [-1, 16, 30, 30]               0\n",
      "         MaxPool2d-8           [-1, 16, 15, 15]               0\n",
      "            Conv2d-9           [-1, 16, 15, 15]           2,320\n",
      "      BatchNorm2d-10           [-1, 16, 15, 15]              32\n",
      "        Dropout2d-11           [-1, 16, 15, 15]               0\n",
      "           Conv2d-12           [-1, 32, 15, 15]           4,640\n",
      "      BatchNorm2d-13           [-1, 32, 15, 15]              64\n",
      "        Dropout2d-14           [-1, 32, 15, 15]               0\n",
      "        MaxPool2d-15             [-1, 32, 7, 7]               0\n",
      "           Conv2d-16             [-1, 16, 9, 9]             528\n",
      "           Conv2d-17             [-1, 16, 9, 9]           2,320\n",
      "      BatchNorm2d-18             [-1, 16, 9, 9]              32\n",
      "        Dropout2d-19             [-1, 16, 9, 9]               0\n",
      "           Conv2d-20             [-1, 32, 9, 9]           4,640\n",
      "      BatchNorm2d-21             [-1, 32, 9, 9]              64\n",
      "        Dropout2d-22             [-1, 32, 9, 9]               0\n",
      "           Conv2d-23           [-1, 10, 11, 11]             330\n",
      "AdaptiveAvgPool2d-24             [-1, 10, 1, 1]               0\n",
      "================================================================\n",
      "Total params: 17,646\n",
      "Trainable params: 17,646\n",
      "Non-trainable params: 0\n",
      "----------------------------------------------------------------\n",
      "Input size (MB): 0.00\n",
      "Forward/backward pass size (MB): 3.05\n",
      "Params size (MB): 0.07\n",
      "Estimated Total Size (MB): 3.12\n",
      "----------------------------------------------------------------\n"
     ]
    },
    {
     "name": "stderr",
     "output_type": "stream",
     "text": [
      "/tmp/ipykernel_36407/2135698860.py:66: UserWarning: Implicit dimension choice for log_softmax has been deprecated. Change the call to include dim=X as an argument.\n",
      "  return F.log_softmax(x)\n"
     ]
    }
   ],
   "source": [
    "import torch\n",
    "import torch.nn as nn\n",
    "import torch.nn.functional as F\n",
    "\n",
    "class Net(nn.Module):\n",
    "    def __init__(self):\n",
    "        super(Net, self).__init__()\n",
    "        self.conv1 = nn.Conv2d(1, 128, kernel_size=3, padding=1)\n",
    "        self.bn1 = nn.BatchNorm2d(128)\n",
    "        self.dropout1 = nn.Dropout2d(p=0.01)\n",
    "\n",
    "        self.tns_conv1 = nn.Conv2d(128, 4, kernel_size=1, padding=1)\n",
    "        \n",
    "        self.conv2 = nn.Conv2d(4, 16, kernel_size=3, padding=1)\n",
    "        self.bn2 = nn.BatchNorm2d(16)\n",
    "        self.dropout2 = nn.Dropout2d(p=0.01)\n",
    "        \n",
    "\n",
    "        self.pool1 = nn.MaxPool2d(2, 2)\n",
    "\n",
    "        \n",
    "        self.conv3 = nn.Conv2d(16, 16, kernel_size=3, padding=1)\n",
    "        self.bn3 = nn.BatchNorm2d(16)\n",
    "        self.dropout3 = nn.Dropout2d(p=0.01)\n",
    "        \n",
    "        self.conv4 = nn.Conv2d(16, 32, kernel_size=3, padding=1)\n",
    "        self.bn4 = nn.BatchNorm2d(32)\n",
    "        self.dropout4 = nn.Dropout2d(p=0.01)   \n",
    "        \n",
    "        self.pool2 = nn.MaxPool2d(2, 2)\n",
    "        \n",
    "        self.tns_conv2 = nn.Conv2d(32, 16, kernel_size=1, padding=1)\n",
    "    \n",
    "        \n",
    "        self.conv5 = nn.Conv2d(16, 16, kernel_size=3, padding=1)\n",
    "        self.bn5 = nn.BatchNorm2d(16)\n",
    "        self.dropout5 = nn.Dropout2d(p=0.01) \n",
    "        \n",
    "        self.conv6 = nn.Conv2d(16, 32, kernel_size=3, padding=1)\n",
    "        self.bn6 = nn.BatchNorm2d(32)\n",
    "        self.dropout6 = nn.Dropout2d(p=0.01) \n",
    "        \n",
    "        \n",
    "        self.conv7 = nn.Conv2d(32, 10, kernel_size=1, padding=1)\n",
    "\n",
    "        \n",
    "        \n",
    "        self.gap = nn.AdaptiveAvgPool2d(1)\n",
    "        \n",
    "\n",
    "    def forward(self, x):\n",
    "        x = self.dropout1(self.bn1(F.relu(self.conv1(x))))\n",
    "        x = self.tns_conv1(x)\n",
    "        x = self.dropout2(self.bn2(F.relu(self.conv2(x))))\n",
    "        x = self.pool1(x)\n",
    "        x = self.dropout3(self.bn3(F.relu(self.conv3(x))))\n",
    "        x = self.dropout4(self.bn4(F.relu(self.conv4(x))))\n",
    "        x = self.pool2(x)\n",
    "        x = self.tns_conv2(x)\n",
    "        x = self.dropout5(self.bn5(F.relu(self.conv5(x))))\n",
    "        x = self.dropout6(self.bn6(F.relu(self.conv6(x))))\n",
    "        x = self.conv7(x)\n",
    "        x = self.gap(x)\n",
    "        \n",
    "        x = x.view(-1, 10)\n",
    "        return F.log_softmax(x)\n",
    "\n",
    "use_cuda = torch.cuda.is_available()\n",
    "device = torch.device(\"cuda\" if use_cuda else \"cpu\")\n",
    "model = Net().to(device)\n",
    "summary(model, input_size=(1, 28, 28))"
   ]
  },
  {
   "cell_type": "code",
   "execution_count": 5,
   "metadata": {},
   "outputs": [
    {
     "name": "stdout",
     "output_type": "stream",
     "text": [
      "----------------------------------------------------------------\n",
      "        Layer (type)               Output Shape         Param #\n",
      "================================================================\n",
      "            Conv2d-1          [-1, 128, 28, 28]           1,280\n",
      "       BatchNorm2d-2          [-1, 128, 28, 28]             256\n",
      "         Dropout2d-3          [-1, 128, 28, 28]               0\n",
      "            Conv2d-4            [-1, 8, 30, 30]           1,032\n",
      "            Conv2d-5           [-1, 16, 30, 30]           1,168\n",
      "       BatchNorm2d-6           [-1, 16, 30, 30]              32\n",
      "         Dropout2d-7           [-1, 16, 30, 30]               0\n",
      "         MaxPool2d-8           [-1, 16, 15, 15]               0\n",
      "            Conv2d-9           [-1, 16, 15, 15]           2,320\n",
      "      BatchNorm2d-10           [-1, 16, 15, 15]              32\n",
      "        Dropout2d-11           [-1, 16, 15, 15]               0\n",
      "           Conv2d-12           [-1, 32, 15, 15]           4,640\n",
      "      BatchNorm2d-13           [-1, 32, 15, 15]              64\n",
      "        Dropout2d-14           [-1, 32, 15, 15]               0\n",
      "        MaxPool2d-15             [-1, 32, 7, 7]               0\n",
      "           Conv2d-16             [-1, 16, 9, 9]             528\n",
      "           Conv2d-17             [-1, 16, 9, 9]           2,320\n",
      "      BatchNorm2d-18             [-1, 16, 9, 9]              32\n",
      "        Dropout2d-19             [-1, 16, 9, 9]               0\n",
      "           Conv2d-20             [-1, 32, 9, 9]           4,640\n",
      "      BatchNorm2d-21             [-1, 32, 9, 9]              64\n",
      "        Dropout2d-22             [-1, 32, 9, 9]               0\n",
      "           Conv2d-23           [-1, 10, 11, 11]             330\n",
      "AdaptiveAvgPool2d-24             [-1, 10, 1, 1]               0\n",
      "================================================================\n",
      "Total params: 18,738\n",
      "Trainable params: 18,738\n",
      "Non-trainable params: 0\n",
      "----------------------------------------------------------------\n",
      "Input size (MB): 0.00\n",
      "Forward/backward pass size (MB): 3.08\n",
      "Params size (MB): 0.07\n",
      "Estimated Total Size (MB): 3.15\n",
      "----------------------------------------------------------------\n"
     ]
    },
    {
     "name": "stderr",
     "output_type": "stream",
     "text": [
      "/tmp/ipykernel_36407/3257680800.py:66: UserWarning: Implicit dimension choice for log_softmax has been deprecated. Change the call to include dim=X as an argument.\n",
      "  return F.log_softmax(x)\n"
     ]
    }
   ],
   "source": [
    "import torch\n",
    "import torch.nn as nn\n",
    "import torch.nn.functional as F\n",
    "\n",
    "class Net(nn.Module):\n",
    "    def __init__(self):\n",
    "        super(Net, self).__init__()\n",
    "        self.conv1 = nn.Conv2d(1, 128, kernel_size=3, padding=1)\n",
    "        self.bn1 = nn.BatchNorm2d(128)\n",
    "        self.dropout1 = nn.Dropout2d(p=0.05)\n",
    "\n",
    "        self.tns_conv1 = nn.Conv2d(128, 8, kernel_size=1, padding=1)\n",
    "        \n",
    "        self.conv2 = nn.Conv2d(8, 16, kernel_size=3, padding=1)\n",
    "        self.bn2 = nn.BatchNorm2d(16)\n",
    "        self.dropout2 = nn.Dropout2d(p=0.05)\n",
    "        \n",
    "\n",
    "        self.pool1 = nn.MaxPool2d(2, 2)\n",
    "\n",
    "        \n",
    "        self.conv3 = nn.Conv2d(16, 16, kernel_size=3, padding=1)\n",
    "        self.bn3 = nn.BatchNorm2d(16)\n",
    "        self.dropout3 = nn.Dropout2d(p=0.05)\n",
    "        \n",
    "        self.conv4 = nn.Conv2d(16, 32, kernel_size=3, padding=1)\n",
    "        self.bn4 = nn.BatchNorm2d(32)\n",
    "        self.dropout4 = nn.Dropout2d(p=0.05)   \n",
    "        \n",
    "        self.pool2 = nn.MaxPool2d(2, 2)\n",
    "        \n",
    "        self.tns_conv2 = nn.Conv2d(32, 16, kernel_size=1, padding=1)\n",
    "    \n",
    "        \n",
    "        self.conv5 = nn.Conv2d(16, 16, kernel_size=3, padding=1)\n",
    "        self.bn5 = nn.BatchNorm2d(16)\n",
    "        self.dropout5 = nn.Dropout2d(p=0.05) \n",
    "        \n",
    "        self.conv6 = nn.Conv2d(16, 32, kernel_size=3, padding=1)\n",
    "        self.bn6 = nn.BatchNorm2d(32)\n",
    "        self.dropout6 = nn.Dropout2d(p=0.05) \n",
    "        \n",
    "        \n",
    "        self.conv7 = nn.Conv2d(32, 10, kernel_size=1, padding=1)\n",
    "\n",
    "        \n",
    "        \n",
    "        self.gap = nn.AdaptiveAvgPool2d(1)\n",
    "        \n",
    "\n",
    "    def forward(self, x):\n",
    "        x = self.dropout1(self.bn1(F.relu(self.conv1(x))))\n",
    "        x = self.tns_conv1(x)\n",
    "        x = self.dropout2(self.bn2(F.relu(self.conv2(x))))\n",
    "        x = self.pool1(x)\n",
    "        x = self.dropout3(self.bn3(F.relu(self.conv3(x))))\n",
    "        x = self.dropout4(self.bn4(F.relu(self.conv4(x))))\n",
    "        x = self.pool2(x)\n",
    "        x = self.tns_conv2(x)\n",
    "        x = self.dropout5(self.bn5(F.relu(self.conv5(x))))\n",
    "        x = self.dropout6(self.bn6(F.relu(self.conv6(x))))\n",
    "        x = self.conv7(x)\n",
    "        x = self.gap(x)\n",
    "        \n",
    "        x = x.view(-1, 10)\n",
    "        return F.log_softmax(x)\n",
    "\n",
    "use_cuda = torch.cuda.is_available()\n",
    "device = torch.device(\"cuda\" if use_cuda else \"cpu\")\n",
    "model = Net().to(device)\n",
    "summary(model, input_size=(1, 28, 28))"
   ]
  },
  {
   "cell_type": "code",
   "execution_count": null,
   "metadata": {},
   "outputs": [],
   "source": []
  },
  {
   "cell_type": "code",
   "execution_count": 6,
   "metadata": {
    "id": "DqTWLaM5GHgH"
   },
   "outputs": [],
   "source": [
    "torch.manual_seed(1)\n",
    "batch_size = 128*4\n",
    "\n",
    "kwargs = {'num_workers': 1, 'pin_memory': True} if use_cuda else {}\n",
    "train_loader = torch.utils.data.DataLoader(\n",
    "    datasets.MNIST('../data', train=True, download=True,\n",
    "                    transform=transforms.Compose([\n",
    "                        transforms.ToTensor(),\n",
    "                        transforms.Normalize((0.1307,), (0.3081,))\n",
    "                    ])),\n",
    "    batch_size=batch_size, shuffle=True, **kwargs)\n",
    "test_loader = torch.utils.data.DataLoader(\n",
    "    datasets.MNIST('../data', train=False, transform=transforms.Compose([\n",
    "                        transforms.ToTensor(),\n",
    "                        transforms.Normalize((0.1307,), (0.3081,))\n",
    "                    ])),\n",
    "    batch_size=batch_size, shuffle=True, **kwargs)\n"
   ]
  },
  {
   "cell_type": "code",
   "execution_count": 7,
   "metadata": {},
   "outputs": [
    {
     "data": {
      "image/png": "[encoded data removed]",
      "text/plain": [
       "<Figure size 640x480 with 12 Axes>"
      ]
     },
     "metadata": {},
     "output_type": "display_data"
    }
   ],
   "source": [
    "import matplotlib.pyplot as plt\n",
    "\n",
    "batch_data, batch_label = next(iter(train_loader)) \n",
    "\n",
    "fig = plt.figure()\n",
    "\n",
    "for i in range(12):\n",
    "  plt.subplot(3,4,i+1)\n",
    "  plt.tight_layout()\n",
    "  plt.imshow(batch_data[i].squeeze(0), cmap='gray')\n",
    "  plt.title(batch_label[i].item())\n",
    "  plt.xticks([])\n",
    "  plt.yticks([])"
   ]
  },
  {
   "cell_type": "code",
   "execution_count": 8,
   "metadata": {
    "id": "8fDefDhaFlwH"
   },
   "outputs": [],
   "source": [
    "from tqdm import tqdm\n",
    "def train(model, device, train_loader, optimizer, epoch):\n",
    "    model.train()\n",
    "    pbar = tqdm(train_loader)\n",
    "    for batch_idx, (data, target) in enumerate(pbar):\n",
    "        data, target = data.to(device), target.to(device)\n",
    "        optimizer.zero_grad()\n",
    "        output = model(data)\n",
    "        loss = F.nll_loss(output, target)\n",
    "        loss.backward()\n",
    "        optimizer.step()\n",
    "        pbar.set_description(desc= f'loss={loss.item()} batch_id={batch_idx}')\n",
    "\n",
    "\n",
    "def test(model, device, test_loader):\n",
    "    model.eval()\n",
    "    test_loss = 0\n",
    "    correct = 0\n",
    "    with torch.no_grad():\n",
    "        for data, target in test_loader:\n",
    "            data, target = data.to(device), target.to(device)\n",
    "            output = model(data)\n",
    "            test_loss += F.nll_loss(output, target, reduction='sum').item()  # sum up batch loss\n",
    "            pred = output.argmax(dim=1, keepdim=True)  # get the index of the max log-probability\n",
    "            correct += pred.eq(target.view_as(pred)).sum().item()\n",
    "\n",
    "    test_loss /= len(test_loader.dataset)\n",
    "\n",
    "    print('\\nTest set: Average loss: {:.4f}, Accuracy: {}/{} ({:.2f}%)\\n'.format(\n",
    "        test_loss, correct, len(test_loader.dataset),\n",
    "        100. * correct / len(test_loader.dataset)))"
   ]
  },
  {
   "cell_type": "code",
   "execution_count": 9,
   "metadata": {
    "id": "MMWbLWO6FuHb",
    "scrolled": false
   },
   "outputs": [
    {
     "name": "stdout",
     "output_type": "stream",
     "text": [
      "#epoch 1\n"
     ]
    },
    {
     "name": "stderr",
     "output_type": "stream",
     "text": [
      "  0% 0/118 [00:00<?, ?it/s]/tmp/ipykernel_36407/3257680800.py:66: UserWarning: Implicit dimension choice for log_softmax has been deprecated. Change the call to include dim=X as an argument.\n",
      "  return F.log_softmax(x)\n",
      "loss=0.15526869893074036 batch_id=117: 100% 118/118 [00:09<00:00, 13.10it/s]\n"
     ]
    },
    {
     "name": "stdout",
     "output_type": "stream",
     "text": [
      "\n",
      "Test set: Average loss: 0.1099, Accuracy: 9690/10000 (96.90%)\n",
      "\n",
      "#epoch 2\n"
     ]
    },
    {
     "name": "stderr",
     "output_type": "stream",
     "text": [
      "loss=0.08858007192611694 batch_id=117: 100% 118/118 [00:08<00:00, 13.16it/s]\n"
     ]
    },
    {
     "name": "stdout",
     "output_type": "stream",
     "text": [
      "\n",
      "Test set: Average loss: 0.0764, Accuracy: 9745/10000 (97.45%)\n",
      "\n",
      "#epoch 3\n"
     ]
    },
    {
     "name": "stderr",
     "output_type": "stream",
     "text": [
      "loss=0.09641000628471375 batch_id=117: 100% 118/118 [00:08<00:00, 13.69it/s] \n"
     ]
    },
    {
     "name": "stdout",
     "output_type": "stream",
     "text": [
      "\n",
      "Test set: Average loss: 0.0496, Accuracy: 9860/10000 (98.60%)\n",
      "\n",
      "#epoch 4\n"
     ]
    },
    {
     "name": "stderr",
     "output_type": "stream",
     "text": [
      "loss=0.02469770796597004 batch_id=117: 100% 118/118 [00:08<00:00, 13.58it/s] \n"
     ]
    },
    {
     "name": "stdout",
     "output_type": "stream",
     "text": [
      "\n",
      "Test set: Average loss: 0.0521, Accuracy: 9822/10000 (98.22%)\n",
      "\n",
      "#epoch 5\n"
     ]
    },
    {
     "name": "stderr",
     "output_type": "stream",
     "text": [
      "loss=0.06552869826555252 batch_id=117: 100% 118/118 [00:08<00:00, 13.53it/s] \n"
     ]
    },
    {
     "name": "stdout",
     "output_type": "stream",
     "text": [
      "\n",
      "Test set: Average loss: 0.0358, Accuracy: 9882/10000 (98.82%)\n",
      "\n",
      "#epoch 6\n"
     ]
    },
    {
     "name": "stderr",
     "output_type": "stream",
     "text": [
      "loss=0.07001551985740662 batch_id=117: 100% 118/118 [00:08<00:00, 13.63it/s] \n"
     ]
    },
    {
     "name": "stdout",
     "output_type": "stream",
     "text": [
      "\n",
      "Test set: Average loss: 0.0373, Accuracy: 9881/10000 (98.81%)\n",
      "\n",
      "#epoch 7\n"
     ]
    },
    {
     "name": "stderr",
     "output_type": "stream",
     "text": [
      "loss=0.04734927788376808 batch_id=117: 100% 118/118 [00:08<00:00, 13.26it/s] \n"
     ]
    },
    {
     "name": "stdout",
     "output_type": "stream",
     "text": [
      "\n",
      "Test set: Average loss: 0.0355, Accuracy: 9894/10000 (98.94%)\n",
      "\n",
      "#epoch 8\n"
     ]
    },
    {
     "name": "stderr",
     "output_type": "stream",
     "text": [
      "loss=0.038803815841674805 batch_id=117: 100% 118/118 [00:08<00:00, 13.35it/s]\n"
     ]
    },
    {
     "name": "stdout",
     "output_type": "stream",
     "text": [
      "\n",
      "Test set: Average loss: 0.0285, Accuracy: 9910/10000 (99.10%)\n",
      "\n",
      "#epoch 9\n"
     ]
    },
    {
     "name": "stderr",
     "output_type": "stream",
     "text": [
      "loss=0.027869613841176033 batch_id=117: 100% 118/118 [00:08<00:00, 13.60it/s]\n"
     ]
    },
    {
     "name": "stdout",
     "output_type": "stream",
     "text": [
      "\n",
      "Test set: Average loss: 0.0288, Accuracy: 9904/10000 (99.04%)\n",
      "\n",
      "#epoch 10\n"
     ]
    },
    {
     "name": "stderr",
     "output_type": "stream",
     "text": [
      "loss=0.008248862810432911 batch_id=117: 100% 118/118 [00:08<00:00, 13.56it/s]\n"
     ]
    },
    {
     "name": "stdout",
     "output_type": "stream",
     "text": [
      "\n",
      "Test set: Average loss: 0.0281, Accuracy: 9904/10000 (99.04%)\n",
      "\n",
      "#epoch 11\n"
     ]
    },
    {
     "name": "stderr",
     "output_type": "stream",
     "text": [
      "loss=0.03867989405989647 batch_id=117: 100% 118/118 [00:08<00:00, 13.61it/s] \n"
     ]
    },
    {
     "name": "stdout",
     "output_type": "stream",
     "text": [
      "\n",
      "Test set: Average loss: 0.0299, Accuracy: 9903/10000 (99.03%)\n",
      "\n",
      "#epoch 12\n"
     ]
    },
    {
     "name": "stderr",
     "output_type": "stream",
     "text": [
      "loss=0.10681498050689697 batch_id=117: 100% 118/118 [00:08<00:00, 13.50it/s] \n"
     ]
    },
    {
     "name": "stdout",
     "output_type": "stream",
     "text": [
      "\n",
      "Test set: Average loss: 0.0235, Accuracy: 9925/10000 (99.25%)\n",
      "\n",
      "#epoch 13\n"
     ]
    },
    {
     "name": "stderr",
     "output_type": "stream",
     "text": [
      "loss=0.04783479496836662 batch_id=117: 100% 118/118 [00:08<00:00, 13.59it/s] \n"
     ]
    },
    {
     "name": "stdout",
     "output_type": "stream",
     "text": [
      "\n",
      "Test set: Average loss: 0.0249, Accuracy: 9915/10000 (99.15%)\n",
      "\n",
      "#epoch 14\n"
     ]
    },
    {
     "name": "stderr",
     "output_type": "stream",
     "text": [
      "loss=0.012179523706436157 batch_id=117: 100% 118/118 [00:08<00:00, 13.40it/s]\n"
     ]
    },
    {
     "name": "stdout",
     "output_type": "stream",
     "text": [
      "\n",
      "Test set: Average loss: 0.0195, Accuracy: 9931/10000 (99.31%)\n",
      "\n",
      "#epoch 15\n"
     ]
    },
    {
     "name": "stderr",
     "output_type": "stream",
     "text": [
      "loss=0.04689979553222656 batch_id=117: 100% 118/118 [00:08<00:00, 13.44it/s] \n"
     ]
    },
    {
     "name": "stdout",
     "output_type": "stream",
     "text": [
      "\n",
      "Test set: Average loss: 0.0229, Accuracy: 9916/10000 (99.16%)\n",
      "\n",
      "#epoch 16\n"
     ]
    },
    {
     "name": "stderr",
     "output_type": "stream",
     "text": [
      "loss=0.02021927759051323 batch_id=117: 100% 118/118 [00:08<00:00, 13.71it/s] \n"
     ]
    },
    {
     "name": "stdout",
     "output_type": "stream",
     "text": [
      "\n",
      "Test set: Average loss: 0.0218, Accuracy: 9934/10000 (99.34%)\n",
      "\n",
      "#epoch 17\n"
     ]
    },
    {
     "name": "stderr",
     "output_type": "stream",
     "text": [
      "loss=0.025678804144263268 batch_id=117: 100% 118/118 [00:08<00:00, 13.58it/s]\n"
     ]
    },
    {
     "name": "stdout",
     "output_type": "stream",
     "text": [
      "\n",
      "Test set: Average loss: 0.0195, Accuracy: 9939/10000 (99.39%)\n",
      "\n",
      "#epoch 18\n"
     ]
    },
    {
     "name": "stderr",
     "output_type": "stream",
     "text": [
      "loss=0.05864516273140907 batch_id=117: 100% 118/118 [00:08<00:00, 13.60it/s] \n"
     ]
    },
    {
     "name": "stdout",
     "output_type": "stream",
     "text": [
      "\n",
      "Test set: Average loss: 0.0218, Accuracy: 9939/10000 (99.39%)\n",
      "\n",
      "#epoch 19\n"
     ]
    },
    {
     "name": "stderr",
     "output_type": "stream",
     "text": [
      "loss=0.010900513269007206 batch_id=117: 100% 118/118 [00:08<00:00, 13.59it/s]\n"
     ]
    },
    {
     "name": "stdout",
     "output_type": "stream",
     "text": [
      "\n",
      "Test set: Average loss: 0.0218, Accuracy: 9928/10000 (99.28%)\n",
      "\n",
      "#epoch 20\n"
     ]
    },
    {
     "name": "stderr",
     "output_type": "stream",
     "text": [
      "loss=0.005078038666397333 batch_id=117: 100% 118/118 [00:08<00:00, 13.67it/s]\n"
     ]
    },
    {
     "name": "stdout",
     "output_type": "stream",
     "text": [
      "\n",
      "Test set: Average loss: 0.0199, Accuracy: 9933/10000 (99.33%)\n",
      "\n"
     ]
    }
   ],
   "source": [
    "model = Net().to(device)\n",
    "optimizer = optim.SGD(model.parameters(), lr=0.1, momentum=0.9)\n",
    "#scheduler = optim.lr_scheduler.StepLR(optimizer, step_size=10, gamma=0.1, verbose=True)  #include to reduce learning rate\n",
    "\n",
    "num_epochs = 20\n",
    "\n",
    "for epoch in range(1, num_epochs+1):\n",
    "    print (\"#epoch\", f'{epoch}')\n",
    "    train(model, device, train_loader, optimizer, epoch)\n",
    "    test(model, device, test_loader)\n",
    "    #scheduler.step()"
   ]
  },
  {
   "cell_type": "code",
   "execution_count": null,
   "metadata": {
    "id": "So5uk4EkHW6R"
   },
   "outputs": [],
   "source": []
  }
 ],
 "metadata": {
  "accelerator": "GPU",
  "colab": {
   "provenance": []
  },
  "kernelspec": {
   "display_name": "Python 3 (ipykernel)",
   "language": "python",
   "name": "python3"
  },
  "language_info": {
   "codemirror_mode": {
    "name": "ipython",
    "version": 3
   },
   "file_extension": ".py",
   "mimetype": "text/x-python",
   "name": "python",
   "nbconvert_exporter": "python",
   "pygments_lexer": "ipython3",
   "version": "3.8.10"
  }
 },
 "nbformat": 4,
 "nbformat_minor": 1
}
